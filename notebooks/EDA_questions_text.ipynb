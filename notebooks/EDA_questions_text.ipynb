{
 "cells": [
  {
   "cell_type": "markdown",
   "metadata": {},
   "source": [
    "# Text analysis: '***2012-13 School Data with Affect***'\n",
    "\n",
    "\n",
    "## Goal\n",
    "  \n",
    "Analyze the dataset to obtain a clean dataset to be used as input for BERT and other NLP models.\n",
    "\n",
    "    1) Remove what is not part of the questions: html tag, url etc.  \n",
    "    2) Drop questions without enough text information\n",
    "\n",
    "NB IRT estimate is calculated using all problems.  \n",
    "    \n",
    "## Table of contents\n",
    "1. Load    \n",
    "2. Transform   \n",
    "3. Remove\n",
    "4. Result\n"
   ]
  },
  {
   "cell_type": "code",
   "execution_count": null,
   "metadata": {
    "ExecuteTime": {
     "end_time": "2020-05-05T15:25:40.250149Z",
     "start_time": "2020-05-05T15:25:35.792423Z"
    },
    "pycharm": {
     "is_executing": false
    }
   },
   "outputs": [],
   "source": [
    "#import libraries,functions\n",
    "import pandas as pd\n",
    "\n",
    "from utils.text_utils import (clean_html, remove_hash, remove_newline,\n",
    "                                     remove_page, remove_question, remove_url,\n",
    "                                     sep_exp)\n",
    "\n",
    "pd.set_option('display.max_colwidth', -1)"
   ]
  },
  {
   "cell_type": "markdown",
   "metadata": {
    "ExecuteTime": {
     "end_time": "2020-04-29T13:27:47.883866Z",
     "start_time": "2020-04-29T13:27:47.879876Z"
    }
   },
   "source": [
    "# <font color='blue'>1 Load </font> \n"
   ]
  },
  {
   "cell_type": "code",
   "execution_count": null,
   "metadata": {
    "ExecuteTime": {
     "end_time": "2020-05-05T15:25:42.872729Z",
     "start_time": "2020-05-05T15:25:42.136487Z"
    },
    "pycharm": {
     "is_executing": false,
     "name": "#%%\n"
    }
   },
   "outputs": [],
   "source": [
    "# load dataset\n",
    "df = pd.read_csv(r'data/ASSISTments2012DataSet-ProblemBodies.csv')"
   ]
  },
  {
   "cell_type": "code",
   "execution_count": null,
   "metadata": {
    "ExecuteTime": {
     "end_time": "2020-05-05T15:31:38.758574Z",
     "start_time": "2020-05-05T15:31:34.314459Z"
    }
   },
   "outputs": [],
   "source": [
    "inter = pd.read_csv(r'data/interactions.csv')"
   ]
  },
  {
   "cell_type": "markdown",
   "metadata": {},
   "source": [
    "### Dimensionality of the raw dataset"
   ]
  },
  {
   "cell_type": "code",
   "execution_count": null,
   "metadata": {
    "ExecuteTime": {
     "end_time": "2020-05-05T15:31:38.794481Z",
     "start_time": "2020-05-05T15:31:38.786500Z"
    },
    "pycharm": {
     "is_executing": false
    }
   },
   "outputs": [],
   "source": [
    "row, col = df.shape\n",
    "\n",
    "print(\"#Rows: \", row)\n",
    "print(\"#Columns: \", col)"
   ]
  },
  {
   "cell_type": "code",
   "execution_count": null,
   "metadata": {
    "ExecuteTime": {
     "end_time": "2020-05-05T15:31:40.409273Z",
     "start_time": "2020-05-05T15:31:40.292142Z"
    },
    "pycharm": {
     "is_executing": false
    }
   },
   "outputs": [],
   "source": [
    "print(\"#unique problem: \", df.problem_id.nunique())\n",
    "print(\"#unique assistement: \", df.assistment_id.nunique())\n",
    "print(\"#unique text: \", df.body.nunique())"
   ]
  },
  {
   "cell_type": "code",
   "execution_count": null,
   "metadata": {
    "ExecuteTime": {
     "end_time": "2020-05-05T15:31:42.565204Z",
     "start_time": "2020-05-05T15:31:42.522082Z"
    },
    "pycharm": {
     "is_executing": false
    }
   },
   "outputs": [],
   "source": [
    "df.sample(n=5)"
   ]
  },
  {
   "cell_type": "code",
   "execution_count": null,
   "metadata": {
    "ExecuteTime": {
     "end_time": "2020-05-05T15:31:44.926615Z",
     "start_time": "2020-05-05T15:31:44.878744Z"
    },
    "pycharm": {
     "is_executing": false
    }
   },
   "outputs": [],
   "source": [
    "# convert body to string\n",
    "df['body'] = df['body'].astype(str)"
   ]
  },
  {
   "cell_type": "code",
   "execution_count": null,
   "metadata": {
    "ExecuteTime": {
     "end_time": "2020-05-05T15:31:47.478581Z",
     "start_time": "2020-05-05T15:31:47.320007Z"
    },
    "pycharm": {
     "is_executing": false
    }
   },
   "outputs": [],
   "source": [
    "# count how many text cointains an image\n",
    "\n",
    "len(df[df['body'].str.contains('<img')])"
   ]
  },
  {
   "cell_type": "markdown",
   "metadata": {
    "ExecuteTime": {
     "end_time": "2020-04-29T13:28:22.773312Z",
     "start_time": "2020-04-29T13:28:22.769323Z"
    }
   },
   "source": [
    "# <font color='blue'>2 Transform</font> \n"
   ]
  },
  {
   "cell_type": "markdown",
   "metadata": {
    "ExecuteTime": {
     "end_time": "2020-04-25T08:59:38.448858Z",
     "start_time": "2020-04-25T08:59:38.444867Z"
    }
   },
   "source": [
    "In this section we do not remove problems (ie rows). We only remove part of the text.   \n",
    "    - remove html tags\n",
    "    - remove url\n",
    "    - remove new line   \n",
    "    - split numerical expression   \n",
    "    - remove page reference\n",
    "    - remove hash reference\n",
    "    - remove questions reference"
   ]
  },
  {
   "cell_type": "code",
   "execution_count": null,
   "metadata": {
    "ExecuteTime": {
     "end_time": "2020-05-05T15:31:54.252941Z",
     "start_time": "2020-05-05T15:31:54.230957Z"
    }
   },
   "outputs": [],
   "source": [
    "clean = df.copy()\n",
    "#drop column 'assistment_id'\n",
    "clean.drop('assistment_id', axis=1, inplace=True)"
   ]
  },
  {
   "cell_type": "code",
   "execution_count": null,
   "metadata": {
    "ExecuteTime": {
     "end_time": "2020-05-05T15:33:03.269836Z",
     "start_time": "2020-05-05T15:31:55.754168Z"
    },
    "pycharm": {
     "is_executing": false
    }
   },
   "outputs": [],
   "source": [
    "# remove html tags\n",
    "clean = df.copy()\n",
    "clean['body'] = clean['body'].apply(lambda x: clean_html(x))"
   ]
  },
  {
   "cell_type": "code",
   "execution_count": null,
   "metadata": {
    "ExecuteTime": {
     "end_time": "2020-05-05T15:33:03.450462Z",
     "start_time": "2020-05-05T15:33:03.298869Z"
    }
   },
   "outputs": [],
   "source": [
    "# example of questions with url\n",
    "clean[clean['body'].str.contains('www.')].sample(n=2)"
   ]
  },
  {
   "cell_type": "code",
   "execution_count": null,
   "metadata": {
    "ExecuteTime": {
     "end_time": "2020-05-05T15:33:04.869914Z",
     "start_time": "2020-05-05T15:33:03.483374Z"
    }
   },
   "outputs": [],
   "source": [
    "# remove url from text\n",
    "clean['body'] = clean['body'].apply(lambda x: remove_url(x))"
   ]
  },
  {
   "cell_type": "code",
   "execution_count": null,
   "metadata": {
    "ExecuteTime": {
     "end_time": "2020-05-05T15:33:05.034688Z",
     "start_time": "2020-05-05T15:33:04.897972Z"
    },
    "pycharm": {
     "is_executing": false,
     "name": "#%%\n"
    }
   },
   "outputs": [],
   "source": [
    "# remove \\r\\n (End Of Line) and \\n  (Line Feed)\n",
    "clean['body'] = clean['body'].apply(lambda x: remove_newline(x))"
   ]
  },
  {
   "cell_type": "code",
   "execution_count": null,
   "metadata": {
    "ExecuteTime": {
     "end_time": "2020-05-05T15:33:05.879778Z",
     "start_time": "2020-05-05T15:33:05.063616Z"
    },
    "pycharm": {
     "is_executing": false
    }
   },
   "outputs": [],
   "source": [
    "# split numerical expression '3*4+1' to '3 * 4 + 1'\n",
    "clean['body'] = clean['body'].apply(lambda x: sep_exp(x))"
   ]
  },
  {
   "cell_type": "code",
   "execution_count": null,
   "metadata": {
    "ExecuteTime": {
     "end_time": "2020-05-05T15:33:06.023195Z",
     "start_time": "2020-05-05T15:33:05.909471Z"
    }
   },
   "outputs": [],
   "source": [
    "# example of questions starting with Page\n",
    "clean[clean['body'].str.startswith('Page')].sample(n=2)"
   ]
  },
  {
   "cell_type": "code",
   "execution_count": null,
   "metadata": {
    "ExecuteTime": {
     "end_time": "2020-05-05T15:33:06.456009Z",
     "start_time": "2020-05-05T15:33:06.055072Z"
    }
   },
   "outputs": [],
   "source": [
    "# remove initial page ref. \"Page 82 #2 do the properties hold\" to \"do the properties hold\"\n",
    "clean['body'] = clean['body'].apply(lambda x: remove_page(x))"
   ]
  },
  {
   "cell_type": "code",
   "execution_count": null,
   "metadata": {
    "ExecuteTime": {
     "end_time": "2020-05-05T15:33:06.592828Z",
     "start_time": "2020-05-05T15:33:06.481930Z"
    }
   },
   "outputs": [],
   "source": [
    "# example of questions starting with Question\n",
    "clean[clean['body'].str.startswith('Question')].sample(n=2)"
   ]
  },
  {
   "cell_type": "code",
   "execution_count": null,
   "metadata": {
    "ExecuteTime": {
     "end_time": "2020-05-05T15:33:06.923205Z",
     "start_time": "2020-05-05T15:33:06.625704Z"
    }
   },
   "outputs": [],
   "source": [
    "# remove Question + Number: \"Question #6 Determine if is a function\" to \"Determine if is a function\"\n",
    "clean['body'] = clean['body'].apply(lambda x: remove_question(x))"
   ]
  },
  {
   "cell_type": "code",
   "execution_count": null,
   "metadata": {
    "ExecuteTime": {
     "end_time": "2020-05-05T15:33:07.061807Z",
     "start_time": "2020-05-05T15:33:06.949099Z"
    }
   },
   "outputs": [],
   "source": [
    "# example of questions starting with hash+number\n",
    "clean[clean['body'].str.startswith('#')].sample(n=2)"
   ]
  },
  {
   "cell_type": "code",
   "execution_count": null,
   "metadata": {
    "ExecuteTime": {
     "end_time": "2020-05-05T15:33:07.388962Z",
     "start_time": "2020-05-05T15:33:07.092677Z"
    }
   },
   "outputs": [],
   "source": [
    "# remove first word hash+number  \"#40 find the max\" to \"find the max\"\n",
    "clean['body'] = clean['body'].apply(lambda x: remove_hash(x))"
   ]
  },
  {
   "cell_type": "markdown",
   "metadata": {},
   "source": [
    "### Text ambiguity\n",
    "As we can see some problems are identical considering the row text.   \n",
    "Example: text identical, but different image   \n",
    "Example: text identical, but they refers to something that is not even in the row text.   \n"
   ]
  },
  {
   "cell_type": "code",
   "execution_count": null,
   "metadata": {
    "ExecuteTime": {
     "end_time": "2020-05-05T15:33:07.708069Z",
     "start_time": "2020-05-05T15:33:07.417811Z"
    },
    "pycharm": {
     "is_executing": false
    }
   },
   "outputs": [],
   "source": [
    "print(\"#problem_id: \", df.problem_id.nunique())\n",
    "print(\"#unique text with html: \", df.body.nunique())\n",
    "print(\"#unique text after cleaning: \", clean.body.nunique())"
   ]
  },
  {
   "cell_type": "code",
   "execution_count": null,
   "metadata": {
    "ExecuteTime": {
     "end_time": "2020-05-05T15:33:07.851059Z",
     "start_time": "2020-05-05T15:33:07.737952Z"
    }
   },
   "outputs": [],
   "source": [
    "#example of duplicated text\n",
    "clean[clean.duplicated(['body'], keep=False)]"
   ]
  },
  {
   "cell_type": "markdown",
   "metadata": {
    "ExecuteTime": {
     "end_time": "2020-04-29T13:34:25.711764Z",
     "start_time": "2020-04-29T13:34:25.707774Z"
    }
   },
   "source": [
    "# <font color='blue'>3 Drop</font> \n"
   ]
  },
  {
   "cell_type": "markdown",
   "metadata": {
    "ExecuteTime": {
     "end_time": "2020-04-29T19:34:18.338448Z",
     "start_time": "2020-04-29T19:34:18.331467Z"
    }
   },
   "source": [
    "### Integration\n",
    "\n",
    "From now consider text of problem with **at least 50 interactions**"
   ]
  },
  {
   "cell_type": "code",
   "execution_count": null,
   "metadata": {
    "ExecuteTime": {
     "end_time": "2020-05-05T15:33:11.909246Z",
     "start_time": "2020-05-05T15:33:07.876990Z"
    }
   },
   "outputs": [],
   "source": [
    "# read dataset with interactions (min int x problem = 50)\n",
    "df_int = pd.read_csv(r'data/interactions.csv')\n",
    "\n",
    "# consider text of problem with at least 50 intearctions\n",
    "clean = clean.loc[clean['problem_id'].isin(df_int.problem_id)]"
   ]
  },
  {
   "cell_type": "markdown",
   "metadata": {},
   "source": [
    "### Text lenght\n"
   ]
  },
  {
   "cell_type": "code",
   "execution_count": null,
   "metadata": {
    "ExecuteTime": {
     "end_time": "2020-05-05T15:33:12.027672Z",
     "start_time": "2020-05-05T15:33:11.946107Z"
    },
    "pycharm": {
     "is_executing": false
    }
   },
   "outputs": [],
   "source": [
    "words = clean['body'].apply(lambda text: len(text.split()))\n",
    "#np.count_nonzero(words.values > 5)\n",
    "words.describe()"
   ]
  },
  {
   "cell_type": "code",
   "execution_count": null,
   "metadata": {
    "ExecuteTime": {
     "end_time": "2020-05-05T15:33:47.023203Z",
     "start_time": "2020-05-05T15:33:46.674660Z"
    }
   },
   "outputs": [],
   "source": [
    "x = words.plot.hist(bins=50, range=(0, 200))\n",
    "\n",
    "x.set_title(\"Length\")\n",
    "x.set_xlabel(\"#words\");"
   ]
  },
  {
   "cell_type": "markdown",
   "metadata": {},
   "source": [
    "### Bad problems\n",
    "\n",
    "There are texts that do not represent questions and we should remove them.\n",
    "\n",
    "    - remove question with 0 words\n",
    "    - remove question with 1 word and one character is a digit (Ex: '1D' is removed, 'Simplify' is not)   \n",
    "    - remove question that contains the patterns: 'Sorry, that is incorrect', 'If your answer is positive','Submit your answer from the textbook', 'QUESTION'\n",
    "\n",
    "Fortunately lot of \"bad\" problems have few interactions and thus are automatically removed by considering problem with at least N interactions.\n"
   ]
  },
  {
   "cell_type": "code",
   "execution_count": null,
   "metadata": {
    "ExecuteTime": {
     "end_time": "2020-05-05T15:34:06.263844Z",
     "start_time": "2020-05-05T15:34:06.193034Z"
    }
   },
   "outputs": [],
   "source": [
    "# problems with 0 words\n",
    "\n",
    "print(\"#problems with 0 words: \", len(clean[clean['body'].map(lambda x: len(x.split()) == 0)]))"
   ]
  },
  {
   "cell_type": "code",
   "execution_count": null,
   "metadata": {
    "ExecuteTime": {
     "end_time": "2020-05-05T15:34:08.561706Z",
     "start_time": "2020-05-05T15:34:08.496632Z"
    },
    "pycharm": {
     "is_executing": false,
     "name": "#%%\n"
    }
   },
   "outputs": [],
   "source": [
    "# remove questions with 0 words.\n",
    "clean = clean[clean['body'].map(lambda x: len(x.split()) > 0)]"
   ]
  },
  {
   "cell_type": "code",
   "execution_count": null,
   "metadata": {
    "ExecuteTime": {
     "end_time": "2020-05-05T15:34:11.330338Z",
     "start_time": "2020-05-05T15:34:11.254538Z"
    }
   },
   "outputs": [],
   "source": [
    "# remove questions with 1 word that cointas a digit.\n",
    "# EXAMPLE: \"1D\" is deleted, \"Simplify\" is not deleted\n",
    "\n",
    "p = clean[clean['body'].map(lambda x: len(x.split()) == 1)]\n",
    "p = p[p['body'].map(lambda x: any(map(str.isdigit, x)))]\n",
    "\n",
    "clean = clean.loc[~clean['problem_id'].isin(p.problem_id)]\n",
    "\n",
    "print(\"random samples of removed problems:\")\n",
    "p.sample(n=10)"
   ]
  },
  {
   "cell_type": "code",
   "execution_count": null,
   "metadata": {
    "ExecuteTime": {
     "end_time": "2020-05-05T15:34:24.060118Z",
     "start_time": "2020-05-05T15:34:24.007258Z"
    },
    "pycharm": {
     "is_executing": false,
     "name": "#%%\n"
    }
   },
   "outputs": [],
   "source": [
    "# 1 Useless Pattern \"Sorry, that is incorrect\"\n",
    "pattern = 'Sorry, that is incorrect'\n",
    "p = clean[clean['body'].str.contains(pattern)]\n",
    "print(\"#Problems removed: \", p.shape[0])\n",
    "\n",
    "# remove these problems\n",
    "clean = clean.loc[~clean['problem_id'].isin(p.problem_id)]\n",
    "\n",
    "print(\"random samples of removed problems:\")\n",
    "p.sample(n=10)"
   ]
  },
  {
   "cell_type": "code",
   "execution_count": null,
   "metadata": {
    "ExecuteTime": {
     "end_time": "2020-05-05T15:34:26.364068Z",
     "start_time": "2020-05-05T15:34:26.315199Z"
    },
    "pycharm": {
     "is_executing": false,
     "name": "#%%\n"
    }
   },
   "outputs": [],
   "source": [
    "# 2 Useless Pattern \"If your answer is positive:\"\n",
    "\n",
    "pattern = 'If your answer is positive'\n",
    "p = clean[clean['body'].str.contains(pattern)]\n",
    "print(\"#Problems removed: \", p.shape[0])\n",
    "\n",
    "# remove these problems\n",
    "clean = clean.loc[~clean['problem_id'].isin(p.problem_id)]\n",
    "\n",
    "print(\"random samples of removed problems:\")\n",
    "p.sample(n=10)"
   ]
  },
  {
   "cell_type": "code",
   "execution_count": null,
   "metadata": {
    "ExecuteTime": {
     "end_time": "2020-05-05T15:34:28.979558Z",
     "start_time": "2020-05-05T15:34:28.928691Z"
    }
   },
   "outputs": [],
   "source": [
    "# 3 Useless Pattern \"Submit your answer from the textbook\"\n",
    "\n",
    "pattern = 'Submit your answer from the textbook'\n",
    "p = clean[clean['body'].str.contains(pattern)]\n",
    "print(\"#Problems removed: \", p.shape[0])\n",
    "\n",
    "# remove these problems\n",
    "clean = clean.loc[~clean['problem_id'].isin(p.problem_id)]\n",
    "\n",
    "print(\"random samples:\")\n",
    "p.sample(n=10)"
   ]
  },
  {
   "cell_type": "code",
   "execution_count": null,
   "metadata": {
    "ExecuteTime": {
     "end_time": "2020-05-05T15:34:33.265013Z",
     "start_time": "2020-05-05T15:34:33.167271Z"
    }
   },
   "outputs": [],
   "source": [
    "# 4 Useless Pattern \"QUESTION\" && len <10\n",
    "\n",
    "pattern = 'QUESTION'\n",
    "p = clean[clean['body'].str.contains(pattern)\n",
    "          & clean['body'].map(lambda x: len(x.split()) <10)]\n",
    "print(\"#Problems removed: \", p.shape[0])\n",
    "\n",
    "# remove these problems\n",
    "clean = clean.loc[~clean['problem_id'].isin(p.problem_id)]\n",
    "\n",
    "print(\"random samples:\")\n",
    "p.sample(n=10)"
   ]
  },
  {
   "cell_type": "code",
   "execution_count": null,
   "metadata": {
    "ExecuteTime": {
     "end_time": "2020-05-05T15:34:35.665170Z",
     "start_time": "2020-05-05T15:34:35.611282Z"
    }
   },
   "outputs": [],
   "source": [
    "# 5 Useless Pattern \"LIFE SCIENCE QUESTION\"\n",
    "\n",
    "pattern = 'your answer from your worksheet'\n",
    "p = clean[clean['body'].str.contains(pattern)]\n",
    "print(\"#Problems removed: \", p.shape[0])\n",
    "\n",
    "# remove these problems\n",
    "clean = clean.loc[~clean['problem_id'].isin(p.problem_id)]\n",
    "\n",
    "print(\"random samples:\")\n",
    "p.sample(n=10)"
   ]
  },
  {
   "cell_type": "markdown",
   "metadata": {
    "ExecuteTime": {
     "end_time": "2020-04-29T20:26:44.167963Z",
     "start_time": "2020-04-29T20:26:44.163972Z"
    }
   },
   "source": [
    "# <font color='blue'>4 Result</font> \n"
   ]
  },
  {
   "cell_type": "code",
   "execution_count": null,
   "metadata": {
    "ExecuteTime": {
     "end_time": "2020-05-05T15:34:50.536113Z",
     "start_time": "2020-05-05T15:34:50.505195Z"
    }
   },
   "outputs": [],
   "source": [
    "print(\"#problems: \",clean.problem_id.nunique())\n",
    "print(\"#problems with different text\", clean.body.nunique())\n",
    "\n",
    "#unique template_id = 12'310"
   ]
  },
  {
   "cell_type": "code",
   "execution_count": null,
   "metadata": {
    "ExecuteTime": {
     "end_time": "2020-05-05T15:34:52.816804Z",
     "start_time": "2020-05-05T15:34:52.474684Z"
    }
   },
   "outputs": [],
   "source": [
    "# final length distribution\n",
    "\n",
    "words = clean['body'].apply(lambda text: len(text.split()))\n",
    "x = words.plot.hist(bins=50, range=(0, 100))\n",
    "\n",
    "x.set_title(\"Length\")\n",
    "x.set_xlabel(\"#words\");"
   ]
  },
  {
   "cell_type": "code",
   "execution_count": null,
   "metadata": {
    "ExecuteTime": {
     "end_time": "2020-05-05T15:34:56.484038Z",
     "start_time": "2020-05-05T15:34:56.470063Z"
    }
   },
   "outputs": [],
   "source": [
    "# 20 random samples\n",
    "clean.sample(n=20)"
   ]
  }
 ],
 "metadata": {
  "kernelspec": {
   "display_name": "Python 3",
   "language": "python",
   "name": "python3"
  },
  "language_info": {
   "codemirror_mode": {
    "name": "ipython",
    "version": 3
   },
   "file_extension": ".py",
   "mimetype": "text/x-python",
   "name": "python",
   "nbconvert_exporter": "python",
   "pygments_lexer": "ipython3",
   "version": "3.8.5"
  },
  "pycharm": {
   "stem_cell": {
    "cell_type": "raw",
    "source": [
     "\n"
    ],
    "metadata": {
     "collapsed": false
    }
   }
  },
  "varInspector": {
   "cols": {
    "lenName": 16,
    "lenType": 16,
    "lenVar": 40
   },
   "kernels_config": {
    "python": {
     "delete_cmd_postfix": "",
     "delete_cmd_prefix": "del ",
     "library": "var_list.py",
     "varRefreshCmd": "print(var_dic_list())"
    },
    "r": {
     "delete_cmd_postfix": ") ",
     "delete_cmd_prefix": "rm(",
     "library": "var_list.r",
     "varRefreshCmd": "cat(var_dic_list()) "
    }
   },
   "types_to_exclude": [
    "module",
    "function",
    "builtin_function_or_method",
    "instance",
    "_Feature"
   ],
   "window_display": false
  }
 },
 "nbformat": 4,
 "nbformat_minor": 2
}